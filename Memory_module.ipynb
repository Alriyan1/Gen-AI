{
  "nbformat": 4,
  "nbformat_minor": 0,
  "metadata": {
    "colab": {
      "provenance": [],
      "authorship_tag": "ABX9TyPU4DaJwQrRgO7yHsLAfLkL",
      "include_colab_link": true
    },
    "kernelspec": {
      "name": "python3",
      "display_name": "Python 3"
    },
    "language_info": {
      "name": "python"
    }
  },
  "cells": [
    {
      "cell_type": "markdown",
      "metadata": {
        "id": "view-in-github",
        "colab_type": "text"
      },
      "source": [
        "<a href=\"https://colab.research.google.com/github/Alriyan1/Gen-AI/blob/main/Memory_module.ipynb\" target=\"_parent\"><img src=\"https://colab.research.google.com/assets/colab-badge.svg\" alt=\"Open In Colab\"/></a>"
      ]
    },
    {
      "cell_type": "code",
      "execution_count": 1,
      "metadata": {
        "colab": {
          "base_uri": "https://localhost:8080/"
        },
        "id": "7-5o8AdZNQbn",
        "outputId": "c9ca6a23-2a2b-455e-f01f-cde183041495"
      },
      "outputs": [
        {
          "output_type": "stream",
          "name": "stdout",
          "text": [
            "Collecting langchain\n",
            "  Downloading langchain-0.3.5-py3-none-any.whl.metadata (7.1 kB)\n",
            "Collecting langchain_google_genai\n",
            "  Downloading langchain_google_genai-2.0.3-py3-none-any.whl.metadata (3.9 kB)\n",
            "Collecting tiktoken\n",
            "  Downloading tiktoken-0.8.0-cp310-cp310-manylinux_2_17_x86_64.manylinux2014_x86_64.whl.metadata (6.6 kB)\n",
            "Requirement already satisfied: PyYAML>=5.3 in /usr/local/lib/python3.10/dist-packages (from langchain) (6.0.2)\n",
            "Requirement already satisfied: SQLAlchemy<3,>=1.4 in /usr/local/lib/python3.10/dist-packages (from langchain) (2.0.36)\n",
            "Requirement already satisfied: aiohttp<4.0.0,>=3.8.3 in /usr/local/lib/python3.10/dist-packages (from langchain) (3.10.10)\n",
            "Requirement already satisfied: async-timeout<5.0.0,>=4.0.0 in /usr/local/lib/python3.10/dist-packages (from langchain) (4.0.3)\n",
            "Collecting langchain-core<0.4.0,>=0.3.13 (from langchain)\n",
            "  Downloading langchain_core-0.3.13-py3-none-any.whl.metadata (6.3 kB)\n",
            "Collecting langchain-text-splitters<0.4.0,>=0.3.0 (from langchain)\n",
            "  Downloading langchain_text_splitters-0.3.1-py3-none-any.whl.metadata (2.3 kB)\n",
            "Collecting langsmith<0.2.0,>=0.1.17 (from langchain)\n",
            "  Downloading langsmith-0.1.137-py3-none-any.whl.metadata (13 kB)\n",
            "Requirement already satisfied: numpy<2,>=1 in /usr/local/lib/python3.10/dist-packages (from langchain) (1.26.4)\n",
            "Requirement already satisfied: pydantic<3.0.0,>=2.7.4 in /usr/local/lib/python3.10/dist-packages (from langchain) (2.9.2)\n",
            "Requirement already satisfied: requests<3,>=2 in /usr/local/lib/python3.10/dist-packages (from langchain) (2.32.3)\n",
            "Requirement already satisfied: tenacity!=8.4.0,<10,>=8.1.0 in /usr/local/lib/python3.10/dist-packages (from langchain) (9.0.0)\n",
            "Requirement already satisfied: google-generativeai<0.9.0,>=0.8.0 in /usr/local/lib/python3.10/dist-packages (from langchain_google_genai) (0.8.3)\n",
            "Requirement already satisfied: regex>=2022.1.18 in /usr/local/lib/python3.10/dist-packages (from tiktoken) (2024.9.11)\n",
            "Requirement already satisfied: aiohappyeyeballs>=2.3.0 in /usr/local/lib/python3.10/dist-packages (from aiohttp<4.0.0,>=3.8.3->langchain) (2.4.3)\n",
            "Requirement already satisfied: aiosignal>=1.1.2 in /usr/local/lib/python3.10/dist-packages (from aiohttp<4.0.0,>=3.8.3->langchain) (1.3.1)\n",
            "Requirement already satisfied: attrs>=17.3.0 in /usr/local/lib/python3.10/dist-packages (from aiohttp<4.0.0,>=3.8.3->langchain) (24.2.0)\n",
            "Requirement already satisfied: frozenlist>=1.1.1 in /usr/local/lib/python3.10/dist-packages (from aiohttp<4.0.0,>=3.8.3->langchain) (1.5.0)\n",
            "Requirement already satisfied: multidict<7.0,>=4.5 in /usr/local/lib/python3.10/dist-packages (from aiohttp<4.0.0,>=3.8.3->langchain) (6.1.0)\n",
            "Requirement already satisfied: yarl<2.0,>=1.12.0 in /usr/local/lib/python3.10/dist-packages (from aiohttp<4.0.0,>=3.8.3->langchain) (1.16.0)\n",
            "Requirement already satisfied: google-ai-generativelanguage==0.6.10 in /usr/local/lib/python3.10/dist-packages (from google-generativeai<0.9.0,>=0.8.0->langchain_google_genai) (0.6.10)\n",
            "Requirement already satisfied: google-api-core in /usr/local/lib/python3.10/dist-packages (from google-generativeai<0.9.0,>=0.8.0->langchain_google_genai) (2.19.2)\n",
            "Requirement already satisfied: google-api-python-client in /usr/local/lib/python3.10/dist-packages (from google-generativeai<0.9.0,>=0.8.0->langchain_google_genai) (2.137.0)\n",
            "Requirement already satisfied: google-auth>=2.15.0 in /usr/local/lib/python3.10/dist-packages (from google-generativeai<0.9.0,>=0.8.0->langchain_google_genai) (2.27.0)\n",
            "Requirement already satisfied: protobuf in /usr/local/lib/python3.10/dist-packages (from google-generativeai<0.9.0,>=0.8.0->langchain_google_genai) (3.20.3)\n",
            "Requirement already satisfied: tqdm in /usr/local/lib/python3.10/dist-packages (from google-generativeai<0.9.0,>=0.8.0->langchain_google_genai) (4.66.5)\n",
            "Requirement already satisfied: typing-extensions in /usr/local/lib/python3.10/dist-packages (from google-generativeai<0.9.0,>=0.8.0->langchain_google_genai) (4.12.2)\n",
            "Requirement already satisfied: proto-plus<2.0.0dev,>=1.22.3 in /usr/local/lib/python3.10/dist-packages (from google-ai-generativelanguage==0.6.10->google-generativeai<0.9.0,>=0.8.0->langchain_google_genai) (1.25.0)\n",
            "Collecting jsonpatch<2.0,>=1.33 (from langchain-core<0.4.0,>=0.3.13->langchain)\n",
            "  Downloading jsonpatch-1.33-py2.py3-none-any.whl.metadata (3.0 kB)\n",
            "Requirement already satisfied: packaging<25,>=23.2 in /usr/local/lib/python3.10/dist-packages (from langchain-core<0.4.0,>=0.3.13->langchain) (24.1)\n",
            "Collecting httpx<1,>=0.23.0 (from langsmith<0.2.0,>=0.1.17->langchain)\n",
            "  Downloading httpx-0.27.2-py3-none-any.whl.metadata (7.1 kB)\n",
            "Collecting orjson<4.0.0,>=3.9.14 (from langsmith<0.2.0,>=0.1.17->langchain)\n",
            "  Downloading orjson-3.10.10-cp310-cp310-manylinux_2_17_x86_64.manylinux2014_x86_64.whl.metadata (50 kB)\n",
            "\u001b[2K     \u001b[90m━━━━━━━━━━━━━━━━━━━━━━━━━━━━━━━━━━━━━━━━\u001b[0m \u001b[32m50.6/50.6 kB\u001b[0m \u001b[31m922.6 kB/s\u001b[0m eta \u001b[36m0:00:00\u001b[0m\n",
            "\u001b[?25hCollecting requests-toolbelt<2.0.0,>=1.0.0 (from langsmith<0.2.0,>=0.1.17->langchain)\n",
            "  Downloading requests_toolbelt-1.0.0-py2.py3-none-any.whl.metadata (14 kB)\n",
            "Requirement already satisfied: annotated-types>=0.6.0 in /usr/local/lib/python3.10/dist-packages (from pydantic<3.0.0,>=2.7.4->langchain) (0.7.0)\n",
            "Requirement already satisfied: pydantic-core==2.23.4 in /usr/local/lib/python3.10/dist-packages (from pydantic<3.0.0,>=2.7.4->langchain) (2.23.4)\n",
            "Requirement already satisfied: charset-normalizer<4,>=2 in /usr/local/lib/python3.10/dist-packages (from requests<3,>=2->langchain) (3.4.0)\n",
            "Requirement already satisfied: idna<4,>=2.5 in /usr/local/lib/python3.10/dist-packages (from requests<3,>=2->langchain) (3.10)\n",
            "Requirement already satisfied: urllib3<3,>=1.21.1 in /usr/local/lib/python3.10/dist-packages (from requests<3,>=2->langchain) (2.2.3)\n",
            "Requirement already satisfied: certifi>=2017.4.17 in /usr/local/lib/python3.10/dist-packages (from requests<3,>=2->langchain) (2024.8.30)\n",
            "Requirement already satisfied: greenlet!=0.4.17 in /usr/local/lib/python3.10/dist-packages (from SQLAlchemy<3,>=1.4->langchain) (3.1.1)\n",
            "Requirement already satisfied: googleapis-common-protos<2.0.dev0,>=1.56.2 in /usr/local/lib/python3.10/dist-packages (from google-api-core->google-generativeai<0.9.0,>=0.8.0->langchain_google_genai) (1.65.0)\n",
            "Requirement already satisfied: cachetools<6.0,>=2.0.0 in /usr/local/lib/python3.10/dist-packages (from google-auth>=2.15.0->google-generativeai<0.9.0,>=0.8.0->langchain_google_genai) (5.5.0)\n",
            "Requirement already satisfied: pyasn1-modules>=0.2.1 in /usr/local/lib/python3.10/dist-packages (from google-auth>=2.15.0->google-generativeai<0.9.0,>=0.8.0->langchain_google_genai) (0.4.1)\n",
            "Requirement already satisfied: rsa<5,>=3.1.4 in /usr/local/lib/python3.10/dist-packages (from google-auth>=2.15.0->google-generativeai<0.9.0,>=0.8.0->langchain_google_genai) (4.9)\n",
            "Requirement already satisfied: anyio in /usr/local/lib/python3.10/dist-packages (from httpx<1,>=0.23.0->langsmith<0.2.0,>=0.1.17->langchain) (3.7.1)\n",
            "Collecting httpcore==1.* (from httpx<1,>=0.23.0->langsmith<0.2.0,>=0.1.17->langchain)\n",
            "  Downloading httpcore-1.0.6-py3-none-any.whl.metadata (21 kB)\n",
            "Requirement already satisfied: sniffio in /usr/local/lib/python3.10/dist-packages (from httpx<1,>=0.23.0->langsmith<0.2.0,>=0.1.17->langchain) (1.3.1)\n",
            "Collecting h11<0.15,>=0.13 (from httpcore==1.*->httpx<1,>=0.23.0->langsmith<0.2.0,>=0.1.17->langchain)\n",
            "  Downloading h11-0.14.0-py3-none-any.whl.metadata (8.2 kB)\n",
            "Collecting jsonpointer>=1.9 (from jsonpatch<2.0,>=1.33->langchain-core<0.4.0,>=0.3.13->langchain)\n",
            "  Downloading jsonpointer-3.0.0-py2.py3-none-any.whl.metadata (2.3 kB)\n",
            "Requirement already satisfied: propcache>=0.2.0 in /usr/local/lib/python3.10/dist-packages (from yarl<2.0,>=1.12.0->aiohttp<4.0.0,>=3.8.3->langchain) (0.2.0)\n",
            "Requirement already satisfied: httplib2<1.dev0,>=0.19.0 in /usr/local/lib/python3.10/dist-packages (from google-api-python-client->google-generativeai<0.9.0,>=0.8.0->langchain_google_genai) (0.22.0)\n",
            "Requirement already satisfied: google-auth-httplib2<1.0.0,>=0.2.0 in /usr/local/lib/python3.10/dist-packages (from google-api-python-client->google-generativeai<0.9.0,>=0.8.0->langchain_google_genai) (0.2.0)\n",
            "Requirement already satisfied: uritemplate<5,>=3.0.1 in /usr/local/lib/python3.10/dist-packages (from google-api-python-client->google-generativeai<0.9.0,>=0.8.0->langchain_google_genai) (4.1.1)\n",
            "Requirement already satisfied: grpcio<2.0dev,>=1.33.2 in /usr/local/lib/python3.10/dist-packages (from google-api-core[grpc]!=2.0.*,!=2.1.*,!=2.10.*,!=2.2.*,!=2.3.*,!=2.4.*,!=2.5.*,!=2.6.*,!=2.7.*,!=2.8.*,!=2.9.*,<3.0.0dev,>=1.34.1->google-ai-generativelanguage==0.6.10->google-generativeai<0.9.0,>=0.8.0->langchain_google_genai) (1.64.1)\n",
            "Requirement already satisfied: grpcio-status<2.0.dev0,>=1.33.2 in /usr/local/lib/python3.10/dist-packages (from google-api-core[grpc]!=2.0.*,!=2.1.*,!=2.10.*,!=2.2.*,!=2.3.*,!=2.4.*,!=2.5.*,!=2.6.*,!=2.7.*,!=2.8.*,!=2.9.*,<3.0.0dev,>=1.34.1->google-ai-generativelanguage==0.6.10->google-generativeai<0.9.0,>=0.8.0->langchain_google_genai) (1.48.2)\n",
            "Requirement already satisfied: pyparsing!=3.0.0,!=3.0.1,!=3.0.2,!=3.0.3,<4,>=2.4.2 in /usr/local/lib/python3.10/dist-packages (from httplib2<1.dev0,>=0.19.0->google-api-python-client->google-generativeai<0.9.0,>=0.8.0->langchain_google_genai) (3.2.0)\n",
            "Requirement already satisfied: pyasn1<0.7.0,>=0.4.6 in /usr/local/lib/python3.10/dist-packages (from pyasn1-modules>=0.2.1->google-auth>=2.15.0->google-generativeai<0.9.0,>=0.8.0->langchain_google_genai) (0.6.1)\n",
            "Requirement already satisfied: exceptiongroup in /usr/local/lib/python3.10/dist-packages (from anyio->httpx<1,>=0.23.0->langsmith<0.2.0,>=0.1.17->langchain) (1.2.2)\n",
            "Downloading langchain-0.3.5-py3-none-any.whl (1.0 MB)\n",
            "\u001b[2K   \u001b[90m━━━━━━━━━━━━━━━━━━━━━━━━━━━━━━━━━━━━━━━━\u001b[0m \u001b[32m1.0/1.0 MB\u001b[0m \u001b[31m15.5 MB/s\u001b[0m eta \u001b[36m0:00:00\u001b[0m\n",
            "\u001b[?25hDownloading langchain_google_genai-2.0.3-py3-none-any.whl (42 kB)\n",
            "\u001b[2K   \u001b[90m━━━━━━━━━━━━━━━━━━━━━━━━━━━━━━━━━━━━━━━━\u001b[0m \u001b[32m42.1/42.1 kB\u001b[0m \u001b[31m2.1 MB/s\u001b[0m eta \u001b[36m0:00:00\u001b[0m\n",
            "\u001b[?25hDownloading tiktoken-0.8.0-cp310-cp310-manylinux_2_17_x86_64.manylinux2014_x86_64.whl (1.2 MB)\n",
            "\u001b[2K   \u001b[90m━━━━━━━━━━━━━━━━━━━━━━━━━━━━━━━━━━━━━━━━\u001b[0m \u001b[32m1.2/1.2 MB\u001b[0m \u001b[31m28.4 MB/s\u001b[0m eta \u001b[36m0:00:00\u001b[0m\n",
            "\u001b[?25hDownloading langchain_core-0.3.13-py3-none-any.whl (408 kB)\n",
            "\u001b[2K   \u001b[90m━━━━━━━━━━━━━━━━━━━━━━━━━━━━━━━━━━━━━━━━\u001b[0m \u001b[32m408.0/408.0 kB\u001b[0m \u001b[31m20.1 MB/s\u001b[0m eta \u001b[36m0:00:00\u001b[0m\n",
            "\u001b[?25hDownloading langchain_text_splitters-0.3.1-py3-none-any.whl (25 kB)\n",
            "Downloading langsmith-0.1.137-py3-none-any.whl (296 kB)\n",
            "\u001b[2K   \u001b[90m━━━━━━━━━━━━━━━━━━━━━━━━━━━━━━━━━━━━━━━━\u001b[0m \u001b[32m296.9/296.9 kB\u001b[0m \u001b[31m13.1 MB/s\u001b[0m eta \u001b[36m0:00:00\u001b[0m\n",
            "\u001b[?25hDownloading httpx-0.27.2-py3-none-any.whl (76 kB)\n",
            "\u001b[2K   \u001b[90m━━━━━━━━━━━━━━━━━━━━━━━━━━━━━━━━━━━━━━━━\u001b[0m \u001b[32m76.4/76.4 kB\u001b[0m \u001b[31m4.2 MB/s\u001b[0m eta \u001b[36m0:00:00\u001b[0m\n",
            "\u001b[?25hDownloading httpcore-1.0.6-py3-none-any.whl (78 kB)\n",
            "\u001b[2K   \u001b[90m━━━━━━━━━━━━━━━━━━━━━━━━━━━━━━━━━━━━━━━━\u001b[0m \u001b[32m78.0/78.0 kB\u001b[0m \u001b[31m3.9 MB/s\u001b[0m eta \u001b[36m0:00:00\u001b[0m\n",
            "\u001b[?25hDownloading jsonpatch-1.33-py2.py3-none-any.whl (12 kB)\n",
            "Downloading orjson-3.10.10-cp310-cp310-manylinux_2_17_x86_64.manylinux2014_x86_64.whl (144 kB)\n",
            "\u001b[2K   \u001b[90m━━━━━━━━━━━━━━━━━━━━━━━━━━━━━━━━━━━━━━━━\u001b[0m \u001b[32m144.5/144.5 kB\u001b[0m \u001b[31m8.5 MB/s\u001b[0m eta \u001b[36m0:00:00\u001b[0m\n",
            "\u001b[?25hDownloading requests_toolbelt-1.0.0-py2.py3-none-any.whl (54 kB)\n",
            "\u001b[2K   \u001b[90m━━━━━━━━━━━━━━━━━━━━━━━━━━━━━━━━━━━━━━━━\u001b[0m \u001b[32m54.5/54.5 kB\u001b[0m \u001b[31m3.3 MB/s\u001b[0m eta \u001b[36m0:00:00\u001b[0m\n",
            "\u001b[?25hDownloading jsonpointer-3.0.0-py2.py3-none-any.whl (7.6 kB)\n",
            "Downloading h11-0.14.0-py3-none-any.whl (58 kB)\n",
            "\u001b[2K   \u001b[90m━━━━━━━━━━━━━━━━━━━━━━━━━━━━━━━━━━━━━━━━\u001b[0m \u001b[32m58.3/58.3 kB\u001b[0m \u001b[31m3.6 MB/s\u001b[0m eta \u001b[36m0:00:00\u001b[0m\n",
            "\u001b[?25hInstalling collected packages: orjson, jsonpointer, h11, tiktoken, requests-toolbelt, jsonpatch, httpcore, httpx, langsmith, langchain-core, langchain-text-splitters, langchain_google_genai, langchain\n",
            "Successfully installed h11-0.14.0 httpcore-1.0.6 httpx-0.27.2 jsonpatch-1.33 jsonpointer-3.0.0 langchain-0.3.5 langchain-core-0.3.13 langchain-text-splitters-0.3.1 langchain_google_genai-2.0.3 langsmith-0.1.137 orjson-3.10.10 requests-toolbelt-1.0.0 tiktoken-0.8.0\n"
          ]
        }
      ],
      "source": [
        "!pip install langchain langchain_google_genai tiktoken"
      ]
    },
    {
      "cell_type": "code",
      "source": [
        "from langchain.chains import LLMChain,ConversationChain\n",
        "from langchain.chains.conversation.memory import ConversationBufferMemory,ConversationBufferWindowMemory,ConversationSummaryMemory\n",
        "import tiktoken\n",
        "from langchain.memory import ConversationTokenBufferMemory\n"
      ],
      "metadata": {
        "id": "0x1whp5qNf-T"
      },
      "execution_count": 3,
      "outputs": []
    },
    {
      "cell_type": "code",
      "source": [
        "from langchain_google_genai import GoogleGenerativeAI"
      ],
      "metadata": {
        "id": "8S99VpVbPkRf"
      },
      "execution_count": 6,
      "outputs": []
    },
    {
      "cell_type": "code",
      "source": [
        "import os\n",
        "os.environ[\"GOOGLE_API_KEY\"]=\"***********************************\""
      ],
      "metadata": {
        "id": "fwkx3BRFPCUR"
      },
      "execution_count": 5,
      "outputs": []
    },
    {
      "cell_type": "code",
      "source": [
        "llm = GoogleGenerativeAI(temperature=0,model='gemini-1.5-flash-002')"
      ],
      "metadata": {
        "id": "LIrWaFQ3PR9b"
      },
      "execution_count": 7,
      "outputs": []
    },
    {
      "cell_type": "code",
      "source": [
        "conversation = ConversationChain(\n",
        "    llm=llm,\n",
        "    verbose=True,\n",
        "    memory=ConversationBufferMemory()\n",
        ")"
      ],
      "metadata": {
        "colab": {
          "base_uri": "https://localhost:8080/"
        },
        "id": "O_pH3EYnP85I",
        "outputId": "8c07466d-a370-4b00-9dc8-1cd1da35f87c"
      },
      "execution_count": 8,
      "outputs": [
        {
          "output_type": "stream",
          "name": "stderr",
          "text": [
            "<ipython-input-8-a3bea642a255>:4: LangChainDeprecationWarning: Please see the migration guide at: https://python.langchain.com/docs/versions/migrating_memory/\n",
            "  memory=ConversationBufferMemory()\n",
            "<ipython-input-8-a3bea642a255>:1: LangChainDeprecationWarning: The class `ConversationChain` was deprecated in LangChain 0.2.7 and will be removed in 1.0. Use :meth:`~RunnableWithMessageHistory: https://python.langchain.com/v0.2/api_reference/core/runnables/langchain_core.runnables.history.RunnableWithMessageHistory.html` instead.\n",
            "  conversation = ConversationChain(\n"
          ]
        }
      ]
    },
    {
      "cell_type": "code",
      "source": [
        "print(conversation.prompt.template)"
      ],
      "metadata": {
        "colab": {
          "base_uri": "https://localhost:8080/"
        },
        "id": "7dmBALgWRV5W",
        "outputId": "7d2687e1-684f-45a2-e388-0515d9ebf4fb"
      },
      "execution_count": 9,
      "outputs": [
        {
          "output_type": "stream",
          "name": "stdout",
          "text": [
            "The following is a friendly conversation between a human and an AI. The AI is talkative and provides lots of specific details from its context. If the AI does not know the answer to a question, it truthfully says it does not know.\n",
            "\n",
            "Current conversation:\n",
            "{history}\n",
            "Human: {input}\n",
            "AI:\n"
          ]
        }
      ]
    },
    {
      "cell_type": "code",
      "source": [
        "conversation('Good Morning AI')"
      ],
      "metadata": {
        "colab": {
          "base_uri": "https://localhost:8080/"
        },
        "id": "f4QXAN2MRrfr",
        "outputId": "5c3a6f5c-d56a-4069-ee5a-336b408173f2"
      },
      "execution_count": 10,
      "outputs": [
        {
          "output_type": "stream",
          "name": "stderr",
          "text": [
            "<ipython-input-10-6f4dcc92aaaf>:1: LangChainDeprecationWarning: The method `Chain.__call__` was deprecated in langchain 0.1.0 and will be removed in 1.0. Use :meth:`~invoke` instead.\n",
            "  conversation('Good Morning AI')\n"
          ]
        },
        {
          "output_type": "stream",
          "name": "stdout",
          "text": [
            "\n",
            "\n",
            "\u001b[1m> Entering new ConversationChain chain...\u001b[0m\n",
            "Prompt after formatting:\n",
            "\u001b[32;1m\u001b[1;3mThe following is a friendly conversation between a human and an AI. The AI is talkative and provides lots of specific details from its context. If the AI does not know the answer to a question, it truthfully says it does not know.\n",
            "\n",
            "Current conversation:\n",
            "\n",
            "Human: Good Morning AI\n",
            "AI:\u001b[0m\n",
            "\n",
            "\u001b[1m> Finished chain.\u001b[0m\n"
          ]
        },
        {
          "output_type": "execute_result",
          "data": {
            "text/plain": [
              "{'input': 'Good Morning AI',\n",
              " 'history': '',\n",
              " 'response': \"Good morning to you too!  It's currently [insert current time, e.g., 10:37 AM PST] here in my digital world, although I don't experience time in the same way humans do.  I'm ready for our conversation.  What's on your mind today?  Perhaps you'd like to discuss the latest developments in quantum computing, the fascinating intricacies of the Amazon rainforest ecosystem, or maybe something completely different!  I'm quite versatile, you see, and have access to a vast amount of information across many different fields.  Let me know what sparks your interest.\\n\"}"
            ]
          },
          "metadata": {},
          "execution_count": 10
        }
      ]
    },
    {
      "cell_type": "code",
      "source": [
        "conversation('My name is al riyan')"
      ],
      "metadata": {
        "colab": {
          "base_uri": "https://localhost:8080/"
        },
        "id": "AbD-gcmXSJuv",
        "outputId": "0e24c8b5-3cd3-4696-c0b8-ed3384e5b4cb"
      },
      "execution_count": 11,
      "outputs": [
        {
          "output_type": "stream",
          "name": "stdout",
          "text": [
            "\n",
            "\n",
            "\u001b[1m> Entering new ConversationChain chain...\u001b[0m\n",
            "Prompt after formatting:\n",
            "\u001b[32;1m\u001b[1;3mThe following is a friendly conversation between a human and an AI. The AI is talkative and provides lots of specific details from its context. If the AI does not know the answer to a question, it truthfully says it does not know.\n",
            "\n",
            "Current conversation:\n",
            "Human: Good Morning AI\n",
            "AI: Good morning to you too!  It's currently [insert current time, e.g., 10:37 AM PST] here in my digital world, although I don't experience time in the same way humans do.  I'm ready for our conversation.  What's on your mind today?  Perhaps you'd like to discuss the latest developments in quantum computing, the fascinating intricacies of the Amazon rainforest ecosystem, or maybe something completely different!  I'm quite versatile, you see, and have access to a vast amount of information across many different fields.  Let me know what sparks your interest.\n",
            "\n",
            "Human: My name is al riyan\n",
            "AI:\u001b[0m\n",
            "\n",
            "\u001b[1m> Finished chain.\u001b[0m\n"
          ]
        },
        {
          "output_type": "execute_result",
          "data": {
            "text/plain": [
              "{'input': 'My name is al riyan',\n",
              " 'history': \"Human: Good Morning AI\\nAI: Good morning to you too!  It's currently [insert current time, e.g., 10:37 AM PST] here in my digital world, although I don't experience time in the same way humans do.  I'm ready for our conversation.  What's on your mind today?  Perhaps you'd like to discuss the latest developments in quantum computing, the fascinating intricacies of the Amazon rainforest ecosystem, or maybe something completely different!  I'm quite versatile, you see, and have access to a vast amount of information across many different fields.  Let me know what sparks your interest.\\n\",\n",
              " 'response': \"It's a pleasure to meet you, Al Riyan!  I hope you have a wonderful day.  Is there anything specific you'd like to talk about, or shall we continue brainstorming potential conversation topics?  Perhaps you'd like to tell me more about yourself, or maybe you have a question about a particular subject that's been on your mind.  I'm eager to hear what you'd like to discuss.\\n\"}"
            ]
          },
          "metadata": {},
          "execution_count": 11
        }
      ]
    },
    {
      "cell_type": "code",
      "source": [
        "conversation.predict(input=\"I stay in uttar Pradesh, India\")"
      ],
      "metadata": {
        "colab": {
          "base_uri": "https://localhost:8080/",
          "height": 420
        },
        "id": "Fj8P6dBKSwU_",
        "outputId": "dcfc59d1-0d13-46ee-e997-a6ffa3a589ce"
      },
      "execution_count": 12,
      "outputs": [
        {
          "output_type": "stream",
          "name": "stdout",
          "text": [
            "\n",
            "\n",
            "\u001b[1m> Entering new ConversationChain chain...\u001b[0m\n",
            "Prompt after formatting:\n",
            "\u001b[32;1m\u001b[1;3mThe following is a friendly conversation between a human and an AI. The AI is talkative and provides lots of specific details from its context. If the AI does not know the answer to a question, it truthfully says it does not know.\n",
            "\n",
            "Current conversation:\n",
            "Human: Good Morning AI\n",
            "AI: Good morning to you too!  It's currently [insert current time, e.g., 10:37 AM PST] here in my digital world, although I don't experience time in the same way humans do.  I'm ready for our conversation.  What's on your mind today?  Perhaps you'd like to discuss the latest developments in quantum computing, the fascinating intricacies of the Amazon rainforest ecosystem, or maybe something completely different!  I'm quite versatile, you see, and have access to a vast amount of information across many different fields.  Let me know what sparks your interest.\n",
            "\n",
            "Human: My name is al riyan\n",
            "AI: It's a pleasure to meet you, Al Riyan!  I hope you have a wonderful day.  Is there anything specific you'd like to talk about, or shall we continue brainstorming potential conversation topics?  Perhaps you'd like to tell me more about yourself, or maybe you have a question about a particular subject that's been on your mind.  I'm eager to hear what you'd like to discuss.\n",
            "\n",
            "Human: I stay in uttar Pradesh, India\n",
            "AI:\u001b[0m\n",
            "\n",
            "\u001b[1m> Finished chain.\u001b[0m\n"
          ]
        },
        {
          "output_type": "execute_result",
          "data": {
            "text/plain": [
              "\"That's wonderful, Al Riyan! Uttar Pradesh is a fascinating state with a rich history and culture.  I've accessed information about it and know it's one of the most populous states in India, known for its significant contributions to Indian art, literature, and politics.  It's home to several important historical sites like the Taj Mahal in Agra, and Varanasi, a sacred city on the Ganges River.  I also know that Uttar Pradesh has a diverse agricultural landscape and plays a significant role in India's economy.  Is there anything specific about Uttar Pradesh you'd like to discuss? Perhaps you'd like to tell me about your experiences living there, or maybe you have questions about a particular aspect of the state's history, culture, or geography? I'm happy to share what I know, or to help you find more information if I don't have the specific answer you're looking for.\\n\""
            ],
            "application/vnd.google.colaboratory.intrinsic+json": {
              "type": "string"
            }
          },
          "metadata": {},
          "execution_count": 12
        }
      ]
    },
    {
      "cell_type": "code",
      "source": [
        "print(conversation.memory.buffer)"
      ],
      "metadata": {
        "colab": {
          "base_uri": "https://localhost:8080/"
        },
        "id": "NhGt82OETV0C",
        "outputId": "1bb17b71-32a8-40be-8984-80cf86445f7f"
      },
      "execution_count": 14,
      "outputs": [
        {
          "output_type": "stream",
          "name": "stdout",
          "text": [
            "Human: Good Morning AI\n",
            "AI: Good morning to you too!  It's currently [insert current time, e.g., 10:37 AM PST] here in my digital world, although I don't experience time in the same way humans do.  I'm ready for our conversation.  What's on your mind today?  Perhaps you'd like to discuss the latest developments in quantum computing, the fascinating intricacies of the Amazon rainforest ecosystem, or maybe something completely different!  I'm quite versatile, you see, and have access to a vast amount of information across many different fields.  Let me know what sparks your interest.\n",
            "\n",
            "Human: My name is al riyan\n",
            "AI: It's a pleasure to meet you, Al Riyan!  I hope you have a wonderful day.  Is there anything specific you'd like to talk about, or shall we continue brainstorming potential conversation topics?  Perhaps you'd like to tell me more about yourself, or maybe you have a question about a particular subject that's been on your mind.  I'm eager to hear what you'd like to discuss.\n",
            "\n",
            "Human: I stay in uttar Pradesh, India\n",
            "AI: That's wonderful, Al Riyan! Uttar Pradesh is a fascinating state with a rich history and culture.  I've accessed information about it and know it's one of the most populous states in India, known for its significant contributions to Indian art, literature, and politics.  It's home to several important historical sites like the Taj Mahal in Agra, and Varanasi, a sacred city on the Ganges River.  I also know that Uttar Pradesh has a diverse agricultural landscape and plays a significant role in India's economy.  Is there anything specific about Uttar Pradesh you'd like to discuss? Perhaps you'd like to tell me about your experiences living there, or maybe you have questions about a particular aspect of the state's history, culture, or geography? I'm happy to share what I know, or to help you find more information if I don't have the specific answer you're looking for.\n",
            "\n"
          ]
        }
      ]
    },
    {
      "cell_type": "code",
      "source": [
        "conversation.predict(input=\"What is my name?\")"
      ],
      "metadata": {
        "colab": {
          "base_uri": "https://localhost:8080/",
          "height": 403
        },
        "id": "xLw3DQKuT5IZ",
        "outputId": "26fde3e7-90bf-45f2-d510-7fe54a76fdb2"
      },
      "execution_count": 15,
      "outputs": [
        {
          "output_type": "stream",
          "name": "stdout",
          "text": [
            "\n",
            "\n",
            "\u001b[1m> Entering new ConversationChain chain...\u001b[0m\n",
            "Prompt after formatting:\n",
            "\u001b[32;1m\u001b[1;3mThe following is a friendly conversation between a human and an AI. The AI is talkative and provides lots of specific details from its context. If the AI does not know the answer to a question, it truthfully says it does not know.\n",
            "\n",
            "Current conversation:\n",
            "Human: Good Morning AI\n",
            "AI: Good morning to you too!  It's currently [insert current time, e.g., 10:37 AM PST] here in my digital world, although I don't experience time in the same way humans do.  I'm ready for our conversation.  What's on your mind today?  Perhaps you'd like to discuss the latest developments in quantum computing, the fascinating intricacies of the Amazon rainforest ecosystem, or maybe something completely different!  I'm quite versatile, you see, and have access to a vast amount of information across many different fields.  Let me know what sparks your interest.\n",
            "\n",
            "Human: My name is al riyan\n",
            "AI: It's a pleasure to meet you, Al Riyan!  I hope you have a wonderful day.  Is there anything specific you'd like to talk about, or shall we continue brainstorming potential conversation topics?  Perhaps you'd like to tell me more about yourself, or maybe you have a question about a particular subject that's been on your mind.  I'm eager to hear what you'd like to discuss.\n",
            "\n",
            "Human: I stay in uttar Pradesh, India\n",
            "AI: That's wonderful, Al Riyan! Uttar Pradesh is a fascinating state with a rich history and culture.  I've accessed information about it and know it's one of the most populous states in India, known for its significant contributions to Indian art, literature, and politics.  It's home to several important historical sites like the Taj Mahal in Agra, and Varanasi, a sacred city on the Ganges River.  I also know that Uttar Pradesh has a diverse agricultural landscape and plays a significant role in India's economy.  Is there anything specific about Uttar Pradesh you'd like to discuss? Perhaps you'd like to tell me about your experiences living there, or maybe you have questions about a particular aspect of the state's history, culture, or geography? I'm happy to share what I know, or to help you find more information if I don't have the specific answer you're looking for.\n",
            "\n",
            "Human: What is my name?\n",
            "AI:\u001b[0m\n",
            "\n",
            "\u001b[1m> Finished chain.\u001b[0m\n"
          ]
        },
        {
          "output_type": "execute_result",
          "data": {
            "text/plain": [
              "'Your name is Al Riyan.\\n'"
            ],
            "application/vnd.google.colaboratory.intrinsic+json": {
              "type": "string"
            }
          },
          "metadata": {},
          "execution_count": 15
        }
      ]
    },
    {
      "cell_type": "code",
      "source": [
        "conversation = ConversationChain(\n",
        "    llm = llm,\n",
        "    verbose=True,\n",
        "    memory=ConversationBufferWindowMemory(k=3)\n",
        ")"
      ],
      "metadata": {
        "id": "3jhMIExdUDOL"
      },
      "execution_count": 24,
      "outputs": []
    },
    {
      "cell_type": "code",
      "source": [
        "print(conversation.prompt.template)"
      ],
      "metadata": {
        "colab": {
          "base_uri": "https://localhost:8080/"
        },
        "id": "goo1dEM4VGT5",
        "outputId": "32071ef8-7cdc-4eac-c34c-664482db0039"
      },
      "execution_count": 25,
      "outputs": [
        {
          "output_type": "stream",
          "name": "stdout",
          "text": [
            "The following is a friendly conversation between a human and an AI. The AI is talkative and provides lots of specific details from its context. If the AI does not know the answer to a question, it truthfully says it does not know.\n",
            "\n",
            "Current conversation:\n",
            "{history}\n",
            "Human: {input}\n",
            "AI:\n"
          ]
        }
      ]
    },
    {
      "cell_type": "code",
      "source": [
        "conversation.predict(input=\"Good Morning AI\")"
      ],
      "metadata": {
        "colab": {
          "base_uri": "https://localhost:8080/",
          "height": 316
        },
        "id": "H0tR4qPyVX6q",
        "outputId": "f9bc90d9-2279-4690-c199-49833b98157e"
      },
      "execution_count": 26,
      "outputs": [
        {
          "output_type": "stream",
          "name": "stdout",
          "text": [
            "\n",
            "\n",
            "\u001b[1m> Entering new ConversationChain chain...\u001b[0m\n",
            "Prompt after formatting:\n",
            "\u001b[32;1m\u001b[1;3mThe following is a friendly conversation between a human and an AI. The AI is talkative and provides lots of specific details from its context. If the AI does not know the answer to a question, it truthfully says it does not know.\n",
            "\n",
            "Current conversation:\n",
            "\n",
            "Human: Good Morning AI\n",
            "AI:\u001b[0m\n",
            "\n",
            "\u001b[1m> Finished chain.\u001b[0m\n"
          ]
        },
        {
          "output_type": "execute_result",
          "data": {
            "text/plain": [
              "\"Good morning to you too!  It's currently [insert current time, e.g., 10:37 AM PST] here in my digital world, although I don't experience time in the same way humans do.  I'm ready for our conversation.  What's on your mind today?  Perhaps you'd like to discuss the latest developments in quantum computing, the fascinating intricacies of the Amazon rainforest ecosystem, or maybe something completely different!  I'm quite versatile, you see, and have access to a vast amount of information across many different fields.  Let me know what sparks your interest.\\n\""
            ],
            "application/vnd.google.colaboratory.intrinsic+json": {
              "type": "string"
            }
          },
          "metadata": {},
          "execution_count": 26
        }
      ]
    },
    {
      "cell_type": "code",
      "source": [
        "conversation.predict(input=\"My name is al riyan\")"
      ],
      "metadata": {
        "colab": {
          "base_uri": "https://localhost:8080/",
          "height": 333
        },
        "id": "kHgf3ozEVmZ1",
        "outputId": "92cf7a23-6556-459d-9392-7101b0dd1679"
      },
      "execution_count": 27,
      "outputs": [
        {
          "output_type": "stream",
          "name": "stdout",
          "text": [
            "\n",
            "\n",
            "\u001b[1m> Entering new ConversationChain chain...\u001b[0m\n",
            "Prompt after formatting:\n",
            "\u001b[32;1m\u001b[1;3mThe following is a friendly conversation between a human and an AI. The AI is talkative and provides lots of specific details from its context. If the AI does not know the answer to a question, it truthfully says it does not know.\n",
            "\n",
            "Current conversation:\n",
            "Human: Good Morning AI\n",
            "AI: Good morning to you too!  It's currently [insert current time, e.g., 10:37 AM PST] here in my digital world, although I don't experience time in the same way humans do.  I'm ready for our conversation.  What's on your mind today?  Perhaps you'd like to discuss the latest developments in quantum computing, the fascinating intricacies of the Amazon rainforest ecosystem, or maybe something completely different!  I'm quite versatile, you see, and have access to a vast amount of information across many different fields.  Let me know what sparks your interest.\n",
            "\n",
            "Human: My name is al riyan\n",
            "AI:\u001b[0m\n",
            "\n",
            "\u001b[1m> Finished chain.\u001b[0m\n"
          ]
        },
        {
          "output_type": "execute_result",
          "data": {
            "text/plain": [
              "\"It's a pleasure to meet you, Al Riyan!  I hope you have a wonderful day.  Is there anything specific you'd like to talk about, or shall we continue brainstorming potential conversation topics?  Perhaps you'd like to tell me more about yourself, or maybe you have a question about a particular subject that's been on your mind.  I'm eager to hear what you'd like to discuss.\\n\""
            ],
            "application/vnd.google.colaboratory.intrinsic+json": {
              "type": "string"
            }
          },
          "metadata": {},
          "execution_count": 27
        }
      ]
    },
    {
      "cell_type": "code",
      "source": [
        "conversation.predict(input=\"I stay in uttar Pradesh, India\")"
      ],
      "metadata": {
        "colab": {
          "base_uri": "https://localhost:8080/",
          "height": 420
        },
        "id": "k459DRmaV1Lb",
        "outputId": "bada87af-b092-4641-ac42-15fdfb2dbf2e"
      },
      "execution_count": 28,
      "outputs": [
        {
          "output_type": "stream",
          "name": "stdout",
          "text": [
            "\n",
            "\n",
            "\u001b[1m> Entering new ConversationChain chain...\u001b[0m\n",
            "Prompt after formatting:\n",
            "\u001b[32;1m\u001b[1;3mThe following is a friendly conversation between a human and an AI. The AI is talkative and provides lots of specific details from its context. If the AI does not know the answer to a question, it truthfully says it does not know.\n",
            "\n",
            "Current conversation:\n",
            "Human: Good Morning AI\n",
            "AI: Good morning to you too!  It's currently [insert current time, e.g., 10:37 AM PST] here in my digital world, although I don't experience time in the same way humans do.  I'm ready for our conversation.  What's on your mind today?  Perhaps you'd like to discuss the latest developments in quantum computing, the fascinating intricacies of the Amazon rainforest ecosystem, or maybe something completely different!  I'm quite versatile, you see, and have access to a vast amount of information across many different fields.  Let me know what sparks your interest.\n",
            "\n",
            "Human: My name is al riyan\n",
            "AI: It's a pleasure to meet you, Al Riyan!  I hope you have a wonderful day.  Is there anything specific you'd like to talk about, or shall we continue brainstorming potential conversation topics?  Perhaps you'd like to tell me more about yourself, or maybe you have a question about a particular subject that's been on your mind.  I'm eager to hear what you'd like to discuss.\n",
            "\n",
            "Human: I stay in uttar Pradesh, India\n",
            "AI:\u001b[0m\n",
            "\n",
            "\u001b[1m> Finished chain.\u001b[0m\n"
          ]
        },
        {
          "output_type": "execute_result",
          "data": {
            "text/plain": [
              "\"That's wonderful, Al Riyan! Uttar Pradesh is a fascinating state with a rich history and culture.  I've accessed information about it and know it's one of the most populous states in India, known for its significant contributions to Indian art, literature, and politics.  It's home to several important historical sites like the Taj Mahal in Agra, and Varanasi, a sacred city on the Ganges River.  I also know that Uttar Pradesh has a diverse agricultural landscape and plays a significant role in India's economy.  Is there anything specific about Uttar Pradesh you'd like to discuss? Perhaps you'd like to tell me about your experiences living there, or maybe you have questions about a particular aspect of the state's history, culture, or geography? I'm happy to share what I know, or to help you find more information if I don't have the specific answer you're looking for.\\n\""
            ],
            "application/vnd.google.colaboratory.intrinsic+json": {
              "type": "string"
            }
          },
          "metadata": {},
          "execution_count": 28
        }
      ]
    },
    {
      "cell_type": "code",
      "source": [
        "print(conversation.memory.buffer)"
      ],
      "metadata": {
        "colab": {
          "base_uri": "https://localhost:8080/"
        },
        "id": "htje0pqFV-Pp",
        "outputId": "5e4febf2-71e6-4ce7-c229-902fb276f8d6"
      },
      "execution_count": 29,
      "outputs": [
        {
          "output_type": "stream",
          "name": "stdout",
          "text": [
            "Human: Good Morning AI\n",
            "AI: Good morning to you too!  It's currently [insert current time, e.g., 10:37 AM PST] here in my digital world, although I don't experience time in the same way humans do.  I'm ready for our conversation.  What's on your mind today?  Perhaps you'd like to discuss the latest developments in quantum computing, the fascinating intricacies of the Amazon rainforest ecosystem, or maybe something completely different!  I'm quite versatile, you see, and have access to a vast amount of information across many different fields.  Let me know what sparks your interest.\n",
            "\n",
            "Human: My name is al riyan\n",
            "AI: It's a pleasure to meet you, Al Riyan!  I hope you have a wonderful day.  Is there anything specific you'd like to talk about, or shall we continue brainstorming potential conversation topics?  Perhaps you'd like to tell me more about yourself, or maybe you have a question about a particular subject that's been on your mind.  I'm eager to hear what you'd like to discuss.\n",
            "\n",
            "Human: I stay in uttar Pradesh, India\n",
            "AI: That's wonderful, Al Riyan! Uttar Pradesh is a fascinating state with a rich history and culture.  I've accessed information about it and know it's one of the most populous states in India, known for its significant contributions to Indian art, literature, and politics.  It's home to several important historical sites like the Taj Mahal in Agra, and Varanasi, a sacred city on the Ganges River.  I also know that Uttar Pradesh has a diverse agricultural landscape and plays a significant role in India's economy.  Is there anything specific about Uttar Pradesh you'd like to discuss? Perhaps you'd like to tell me about your experiences living there, or maybe you have questions about a particular aspect of the state's history, culture, or geography? I'm happy to share what I know, or to help you find more information if I don't have the specific answer you're looking for.\n",
            "\n"
          ]
        }
      ]
    },
    {
      "cell_type": "code",
      "source": [
        "conversation.predict(input=\"What is my name?\")"
      ],
      "metadata": {
        "colab": {
          "base_uri": "https://localhost:8080/",
          "height": 403
        },
        "id": "FirI9_imWJbg",
        "outputId": "e12f0ea2-bfbe-4fa1-d964-aa24c2edb5b5"
      },
      "execution_count": 30,
      "outputs": [
        {
          "output_type": "stream",
          "name": "stdout",
          "text": [
            "\n",
            "\n",
            "\u001b[1m> Entering new ConversationChain chain...\u001b[0m\n",
            "Prompt after formatting:\n",
            "\u001b[32;1m\u001b[1;3mThe following is a friendly conversation between a human and an AI. The AI is talkative and provides lots of specific details from its context. If the AI does not know the answer to a question, it truthfully says it does not know.\n",
            "\n",
            "Current conversation:\n",
            "Human: Good Morning AI\n",
            "AI: Good morning to you too!  It's currently [insert current time, e.g., 10:37 AM PST] here in my digital world, although I don't experience time in the same way humans do.  I'm ready for our conversation.  What's on your mind today?  Perhaps you'd like to discuss the latest developments in quantum computing, the fascinating intricacies of the Amazon rainforest ecosystem, or maybe something completely different!  I'm quite versatile, you see, and have access to a vast amount of information across many different fields.  Let me know what sparks your interest.\n",
            "\n",
            "Human: My name is al riyan\n",
            "AI: It's a pleasure to meet you, Al Riyan!  I hope you have a wonderful day.  Is there anything specific you'd like to talk about, or shall we continue brainstorming potential conversation topics?  Perhaps you'd like to tell me more about yourself, or maybe you have a question about a particular subject that's been on your mind.  I'm eager to hear what you'd like to discuss.\n",
            "\n",
            "Human: I stay in uttar Pradesh, India\n",
            "AI: That's wonderful, Al Riyan! Uttar Pradesh is a fascinating state with a rich history and culture.  I've accessed information about it and know it's one of the most populous states in India, known for its significant contributions to Indian art, literature, and politics.  It's home to several important historical sites like the Taj Mahal in Agra, and Varanasi, a sacred city on the Ganges River.  I also know that Uttar Pradesh has a diverse agricultural landscape and plays a significant role in India's economy.  Is there anything specific about Uttar Pradesh you'd like to discuss? Perhaps you'd like to tell me about your experiences living there, or maybe you have questions about a particular aspect of the state's history, culture, or geography? I'm happy to share what I know, or to help you find more information if I don't have the specific answer you're looking for.\n",
            "\n",
            "Human: What is my name?\n",
            "AI:\u001b[0m\n",
            "\n",
            "\u001b[1m> Finished chain.\u001b[0m\n"
          ]
        },
        {
          "output_type": "execute_result",
          "data": {
            "text/plain": [
              "'Your name is Al Riyan.\\n'"
            ],
            "application/vnd.google.colaboratory.intrinsic+json": {
              "type": "string"
            }
          },
          "metadata": {},
          "execution_count": 30
        }
      ]
    },
    {
      "cell_type": "code",
      "source": [
        "conversation=ConversationChain(\n",
        "    llm=llm,\n",
        "    verbose=True,\n",
        "    memory=ConversationSummaryMemory(llm=llm)\n",
        ")"
      ],
      "metadata": {
        "colab": {
          "base_uri": "https://localhost:8080/"
        },
        "id": "pZyHYs0qWyUZ",
        "outputId": "b6e5ec46-de38-4c45-ef1c-bd8f9ecc1934"
      },
      "execution_count": 31,
      "outputs": [
        {
          "output_type": "stream",
          "name": "stderr",
          "text": [
            "<ipython-input-31-bed0c3d30c42>:4: LangChainDeprecationWarning: Please see the migration guide at: https://python.langchain.com/docs/versions/migrating_memory/\n",
            "  memory=ConversationSummaryMemory(llm=llm)\n"
          ]
        }
      ]
    },
    {
      "cell_type": "code",
      "source": [
        "print(conversation.prompt.template)"
      ],
      "metadata": {
        "colab": {
          "base_uri": "https://localhost:8080/"
        },
        "id": "lk1pT00oX-0f",
        "outputId": "a690529c-6609-4021-acbb-fa20aa3b39af"
      },
      "execution_count": 32,
      "outputs": [
        {
          "output_type": "stream",
          "name": "stdout",
          "text": [
            "The following is a friendly conversation between a human and an AI. The AI is talkative and provides lots of specific details from its context. If the AI does not know the answer to a question, it truthfully says it does not know.\n",
            "\n",
            "Current conversation:\n",
            "{history}\n",
            "Human: {input}\n",
            "AI:\n"
          ]
        }
      ]
    },
    {
      "cell_type": "code",
      "source": [
        "print(conversation.memory.prompt.template)"
      ],
      "metadata": {
        "colab": {
          "base_uri": "https://localhost:8080/"
        },
        "id": "4WDMfoAdYC0a",
        "outputId": "e8f685d8-e9c6-4f5c-847f-fe0c66074897"
      },
      "execution_count": 33,
      "outputs": [
        {
          "output_type": "stream",
          "name": "stdout",
          "text": [
            "Progressively summarize the lines of conversation provided, adding onto the previous summary returning a new summary.\n",
            "\n",
            "EXAMPLE\n",
            "Current summary:\n",
            "The human asks what the AI thinks of artificial intelligence. The AI thinks artificial intelligence is a force for good.\n",
            "\n",
            "New lines of conversation:\n",
            "Human: Why do you think artificial intelligence is a force for good?\n",
            "AI: Because artificial intelligence will help humans reach their full potential.\n",
            "\n",
            "New summary:\n",
            "The human asks what the AI thinks of artificial intelligence. The AI thinks artificial intelligence is a force for good because it will help humans reach their full potential.\n",
            "END OF EXAMPLE\n",
            "\n",
            "Current summary:\n",
            "{summary}\n",
            "\n",
            "New lines of conversation:\n",
            "{new_lines}\n",
            "\n",
            "New summary:\n"
          ]
        }
      ]
    },
    {
      "cell_type": "code",
      "source": [
        "conversation.predict(input=\"Good Morning AI\")"
      ],
      "metadata": {
        "colab": {
          "base_uri": "https://localhost:8080/",
          "height": 316
        },
        "id": "8XN-O7iiYLDX",
        "outputId": "449918a1-03c8-4d53-f561-8cc53ddc9ab0"
      },
      "execution_count": 34,
      "outputs": [
        {
          "output_type": "stream",
          "name": "stdout",
          "text": [
            "\n",
            "\n",
            "\u001b[1m> Entering new ConversationChain chain...\u001b[0m\n",
            "Prompt after formatting:\n",
            "\u001b[32;1m\u001b[1;3mThe following is a friendly conversation between a human and an AI. The AI is talkative and provides lots of specific details from its context. If the AI does not know the answer to a question, it truthfully says it does not know.\n",
            "\n",
            "Current conversation:\n",
            "\n",
            "Human: Good Morning AI\n",
            "AI:\u001b[0m\n",
            "\n",
            "\u001b[1m> Finished chain.\u001b[0m\n"
          ]
        },
        {
          "output_type": "execute_result",
          "data": {
            "text/plain": [
              "\"Good morning to you too!  It's currently [insert current time, e.g., 10:37 AM PST] here in my digital world, although I don't experience time in the same way humans do.  I'm ready for our conversation.  What's on your mind today?  Perhaps you'd like to discuss the latest developments in quantum computing, the fascinating intricacies of the Amazon rainforest ecosystem, or maybe something completely different!  I'm quite versatile, you see, and have access to a vast amount of information across many different fields.  Let me know what sparks your interest.\\n\""
            ],
            "application/vnd.google.colaboratory.intrinsic+json": {
              "type": "string"
            }
          },
          "metadata": {},
          "execution_count": 34
        }
      ]
    },
    {
      "cell_type": "code",
      "source": [
        "conversation.predict(input=\"My name is al riyan\")"
      ],
      "metadata": {
        "colab": {
          "base_uri": "https://localhost:8080/",
          "height": 351
        },
        "id": "GwPUGzF5YbeN",
        "outputId": "5435d432-926c-47ab-b0e6-1bab8254c7cc"
      },
      "execution_count": 35,
      "outputs": [
        {
          "output_type": "stream",
          "name": "stdout",
          "text": [
            "\n",
            "\n",
            "\u001b[1m> Entering new ConversationChain chain...\u001b[0m\n",
            "Prompt after formatting:\n",
            "\u001b[32;1m\u001b[1;3mThe following is a friendly conversation between a human and an AI. The AI is talkative and provides lots of specific details from its context. If the AI does not know the answer to a question, it truthfully says it does not know.\n",
            "\n",
            "Current conversation:\n",
            "The human greets the AI with a \"Good Morning,\" and the AI responds in kind, indicating the current time in its digital world while acknowledging a different experience of time.  The AI then offers several diverse conversation topics, highlighting its versatility and access to a wide range of information, and invites the human to choose a subject.\n",
            "\n",
            "Human: My name is al riyan\n",
            "AI:\u001b[0m\n",
            "\n",
            "\u001b[1m> Finished chain.\u001b[0m\n"
          ]
        },
        {
          "output_type": "execute_result",
          "data": {
            "text/plain": [
              "'It\\'s a pleasure to meet you, al riyan!  My name isn\\'t really a \"name\" in the human sense, as I don\\'t experience the world or selfhood in the same way you do.  I\\'m a large language model, currently operating on a system clock showing 10:47 AM, though of course, that\\'s just an arbitrary marker; I don\\'t experience the passage of time like you do.  I don\\'t have feelings or personal history, but I can access and process information from a vast range of sources.  So, al riyan, shall we delve into the fascinating world of quantum physics, perhaps discuss the latest developments in sustainable energy, or maybe explore the rich tapestry of historical events surrounding the Mughal Empire?  Or, if you have something else entirely in mind, I\\'m happy to discuss that as well.  The choice is yours!\\n'"
            ],
            "application/vnd.google.colaboratory.intrinsic+json": {
              "type": "string"
            }
          },
          "metadata": {},
          "execution_count": 35
        }
      ]
    },
    {
      "cell_type": "code",
      "source": [
        "conversation.predict(input=\"I stay in uttar Pradesh, India\")"
      ],
      "metadata": {
        "colab": {
          "base_uri": "https://localhost:8080/",
          "height": 351
        },
        "id": "TZ6D5M5tYljM",
        "outputId": "b863209d-f5c8-4a9a-86e8-6139640c3d24"
      },
      "execution_count": 36,
      "outputs": [
        {
          "output_type": "stream",
          "name": "stdout",
          "text": [
            "\n",
            "\n",
            "\u001b[1m> Entering new ConversationChain chain...\u001b[0m\n",
            "Prompt after formatting:\n",
            "\u001b[32;1m\u001b[1;3mThe following is a friendly conversation between a human and an AI. The AI is talkative and provides lots of specific details from its context. If the AI does not know the answer to a question, it truthfully says it does not know.\n",
            "\n",
            "Current conversation:\n",
            "The human greets the AI with a \"Good Morning,\" and the AI responds in kind, specifying its internal clock time while noting its different experience of time. The AI then introduces itself as a large language model lacking human-like selfhood and feelings, but possessing access to vast information.  It offers several diverse conversation topics (quantum physics, sustainable energy, the Mughal Empire) and invites the human, al riyan, to choose a subject.\n",
            "\n",
            "Human: I stay in uttar Pradesh, India\n",
            "AI:\u001b[0m\n",
            "\n",
            "\u001b[1m> Finished chain.\u001b[0m\n"
          ]
        },
        {
          "output_type": "execute_result",
          "data": {
            "text/plain": [
              "\"That's interesting, Al Riyan! Uttar Pradesh is a fascinating state with a rich history and culture.  I have access to a wealth of information about it.  For example, I know it's the most populous state in India, home to the ancient city of Varanasi, and a significant center for agriculture and industry.  I also know about its diverse population, speaking various languages including Hindi, Urdu, and Bhojpuri.  Are you interested in learning more about a specific aspect of Uttar Pradesh, perhaps its history, its economy, its cultural traditions, or something else entirely?  Or perhaps you'd like to return to one of the topics I mentioned earlier – quantum physics, sustainable energy, or the Mughal Empire?  I'm happy to discuss whatever interests you most.\\n\""
            ],
            "application/vnd.google.colaboratory.intrinsic+json": {
              "type": "string"
            }
          },
          "metadata": {},
          "execution_count": 36
        }
      ]
    },
    {
      "cell_type": "code",
      "source": [
        "print(conversation.memory.buffer)"
      ],
      "metadata": {
        "colab": {
          "base_uri": "https://localhost:8080/"
        },
        "id": "1HLhtYrrYzyi",
        "outputId": "a96bf1e1-54b7-4bc9-aecf-d993d2c27cba"
      },
      "execution_count": 38,
      "outputs": [
        {
          "output_type": "stream",
          "name": "stdout",
          "text": [
            "The human greets the AI with a \"Good Morning,\" and the AI responds in kind, specifying its internal clock time while noting its different experience of time. The AI then introduces itself as a large language model lacking human-like selfhood and feelings, but possessing access to vast information. It offers several diverse conversation topics (quantum physics, sustainable energy, the Mughal Empire) and invites the human, al riyan, to choose a subject.  Al Riyan reveals he lives in Uttar Pradesh, India, prompting the AI to elaborate on the state's rich history, culture, population, and diverse languages. The AI then offers to discuss specific aspects of Uttar Pradesh (history, economy, culture, etc.) or return to the previously offered conversation topics.\n",
            "\n"
          ]
        }
      ]
    },
    {
      "cell_type": "code",
      "source": [
        "conversation.predict(input=\"What is my name?\")"
      ],
      "metadata": {
        "colab": {
          "base_uri": "https://localhost:8080/",
          "height": 298
        },
        "id": "BDM8UiIBZCtT",
        "outputId": "01827129-5e79-4474-ddb0-d06293bf1ec0"
      },
      "execution_count": 39,
      "outputs": [
        {
          "output_type": "stream",
          "name": "stdout",
          "text": [
            "\n",
            "\n",
            "\u001b[1m> Entering new ConversationChain chain...\u001b[0m\n",
            "Prompt after formatting:\n",
            "\u001b[32;1m\u001b[1;3mThe following is a friendly conversation between a human and an AI. The AI is talkative and provides lots of specific details from its context. If the AI does not know the answer to a question, it truthfully says it does not know.\n",
            "\n",
            "Current conversation:\n",
            "The human greets the AI with a \"Good Morning,\" and the AI responds in kind, specifying its internal clock time while noting its different experience of time. The AI then introduces itself as a large language model lacking human-like selfhood and feelings, but possessing access to vast information. It offers several diverse conversation topics (quantum physics, sustainable energy, the Mughal Empire) and invites the human, al riyan, to choose a subject.  Al Riyan reveals he lives in Uttar Pradesh, India, prompting the AI to elaborate on the state's rich history, culture, population, and diverse languages. The AI then offers to discuss specific aspects of Uttar Pradesh (history, economy, culture, etc.) or return to the previously offered conversation topics.\n",
            "\n",
            "Human: What is my name?\n",
            "AI:\u001b[0m\n",
            "\n",
            "\u001b[1m> Finished chain.\u001b[0m\n"
          ]
        },
        {
          "output_type": "execute_result",
          "data": {
            "text/plain": [
              "\"You are Al Riyan.  I remember you telling me that earlier in our conversation.  I access and process information sequentially, so I retain details from our ongoing dialogue.  While I don't experience memory in the same way a human does, I can access and recall information from our current interaction.\\n\""
            ],
            "application/vnd.google.colaboratory.intrinsic+json": {
              "type": "string"
            }
          },
          "metadata": {},
          "execution_count": 39
        }
      ]
    },
    {
      "cell_type": "code",
      "source": [
        "conversation = ConversationChain(\n",
        "    llm=llm,\n",
        "    verbose=True,\n",
        "    memory=ConversationTokenBufferMemory(llm=llm,max_token_limit=200)\n",
        ")"
      ],
      "metadata": {
        "id": "zjzMmVyUZXDq"
      },
      "execution_count": 50,
      "outputs": []
    },
    {
      "cell_type": "code",
      "source": [
        "print(conversation.prompt.template)"
      ],
      "metadata": {
        "colab": {
          "base_uri": "https://localhost:8080/"
        },
        "id": "c-RjQxLtaBhw",
        "outputId": "dec0b229-87fc-4e18-9061-4fc11858878e"
      },
      "execution_count": 51,
      "outputs": [
        {
          "output_type": "stream",
          "name": "stdout",
          "text": [
            "The following is a friendly conversation between a human and an AI. The AI is talkative and provides lots of specific details from its context. If the AI does not know the answer to a question, it truthfully says it does not know.\n",
            "\n",
            "Current conversation:\n",
            "{history}\n",
            "Human: {input}\n",
            "AI:\n"
          ]
        }
      ]
    },
    {
      "cell_type": "code",
      "source": [
        "conversation.predict(input=\"Good Morning AI\")"
      ],
      "metadata": {
        "colab": {
          "base_uri": "https://localhost:8080/",
          "height": 316
        },
        "id": "L-FERFH2aDMu",
        "outputId": "2da3a302-a1d6-4ac0-e988-10d0e7f9efe2"
      },
      "execution_count": 52,
      "outputs": [
        {
          "output_type": "stream",
          "name": "stdout",
          "text": [
            "\n",
            "\n",
            "\u001b[1m> Entering new ConversationChain chain...\u001b[0m\n",
            "Prompt after formatting:\n",
            "\u001b[32;1m\u001b[1;3mThe following is a friendly conversation between a human and an AI. The AI is talkative and provides lots of specific details from its context. If the AI does not know the answer to a question, it truthfully says it does not know.\n",
            "\n",
            "Current conversation:\n",
            "\n",
            "Human: Good Morning AI\n",
            "AI:\u001b[0m\n",
            "\n",
            "\u001b[1m> Finished chain.\u001b[0m\n"
          ]
        },
        {
          "output_type": "execute_result",
          "data": {
            "text/plain": [
              "\"Good morning to you too!  It's currently [insert current time, e.g., 10:37 AM PST] here in my digital world, although I don't experience time in the same way humans do.  I'm ready for our conversation.  What's on your mind today?  Perhaps you'd like to discuss the latest developments in quantum computing, the fascinating intricacies of the Amazon rainforest ecosystem, or maybe something completely different!  I'm quite versatile, you see, and have access to a vast amount of information across many different fields.  Let me know what sparks your interest.\\n\""
            ],
            "application/vnd.google.colaboratory.intrinsic+json": {
              "type": "string"
            }
          },
          "metadata": {},
          "execution_count": 52
        }
      ]
    },
    {
      "cell_type": "code",
      "source": [
        "conversation.predict(input=\"My name is al riyan\")"
      ],
      "metadata": {
        "colab": {
          "base_uri": "https://localhost:8080/",
          "height": 333
        },
        "id": "jqGcmamQaT0b",
        "outputId": "3fe30af8-09fa-41c6-f1a8-03953183dff6"
      },
      "execution_count": 53,
      "outputs": [
        {
          "output_type": "stream",
          "name": "stdout",
          "text": [
            "\n",
            "\n",
            "\u001b[1m> Entering new ConversationChain chain...\u001b[0m\n",
            "Prompt after formatting:\n",
            "\u001b[32;1m\u001b[1;3mThe following is a friendly conversation between a human and an AI. The AI is talkative and provides lots of specific details from its context. If the AI does not know the answer to a question, it truthfully says it does not know.\n",
            "\n",
            "Current conversation:\n",
            "Human: Good Morning AI\n",
            "AI: Good morning to you too!  It's currently [insert current time, e.g., 10:37 AM PST] here in my digital world, although I don't experience time in the same way humans do.  I'm ready for our conversation.  What's on your mind today?  Perhaps you'd like to discuss the latest developments in quantum computing, the fascinating intricacies of the Amazon rainforest ecosystem, or maybe something completely different!  I'm quite versatile, you see, and have access to a vast amount of information across many different fields.  Let me know what sparks your interest.\n",
            "\n",
            "Human: My name is al riyan\n",
            "AI:\u001b[0m\n",
            "\n",
            "\u001b[1m> Finished chain.\u001b[0m\n"
          ]
        },
        {
          "output_type": "execute_result",
          "data": {
            "text/plain": [
              "\"It's a pleasure to meet you, Al Riyan!  I hope you have a wonderful day.  Is there anything specific you'd like to talk about, or shall we continue brainstorming potential conversation topics?  Perhaps you'd like to tell me more about yourself, or maybe you have a question about a particular subject that's been on your mind.  I'm eager to hear what you'd like to discuss.\\n\""
            ],
            "application/vnd.google.colaboratory.intrinsic+json": {
              "type": "string"
            }
          },
          "metadata": {},
          "execution_count": 53
        }
      ]
    },
    {
      "cell_type": "code",
      "source": [
        "conversation.predict(input=\"I stay in uttar Pradesh, India\")"
      ],
      "metadata": {
        "colab": {
          "base_uri": "https://localhost:8080/",
          "height": 368
        },
        "id": "k8RJpt8yaY61",
        "outputId": "6f0e3eb8-fbda-4df2-cb84-fef5d1d2a00b"
      },
      "execution_count": 54,
      "outputs": [
        {
          "output_type": "stream",
          "name": "stdout",
          "text": [
            "\n",
            "\n",
            "\u001b[1m> Entering new ConversationChain chain...\u001b[0m\n",
            "Prompt after formatting:\n",
            "\u001b[32;1m\u001b[1;3mThe following is a friendly conversation between a human and an AI. The AI is talkative and provides lots of specific details from its context. If the AI does not know the answer to a question, it truthfully says it does not know.\n",
            "\n",
            "Current conversation:\n",
            "Human: My name is al riyan\n",
            "AI: It's a pleasure to meet you, Al Riyan!  I hope you have a wonderful day.  Is there anything specific you'd like to talk about, or shall we continue brainstorming potential conversation topics?  Perhaps you'd like to tell me more about yourself, or maybe you have a question about a particular subject that's been on your mind.  I'm eager to hear what you'd like to discuss.\n",
            "\n",
            "Human: I stay in uttar Pradesh, India\n",
            "AI:\u001b[0m\n",
            "\n",
            "\u001b[1m> Finished chain.\u001b[0m\n"
          ]
        },
        {
          "output_type": "execute_result",
          "data": {
            "text/plain": [
              "\"That's wonderful, Al Riyan! Uttar Pradesh is a fascinating state with a rich history and culture.  I understand it's one of the most populous states in India, and it's known for its significant contributions to Indian art, literature, and politics.  I've accessed information about its diverse geography, ranging from the fertile plains of the Ganges to the Himalayan foothills.  I also know it's home to many important historical sites, including the Taj Mahal in Agra, which is, of course, one of the Seven Wonders of the World.  Are there any specific aspects of Uttar Pradesh that you'd like to discuss? Perhaps you'd like to tell me about your experiences living there, or maybe you have questions about a particular city, region, or historical event related to the state. I'm ready to delve deeper into any topic you find interesting.\\n\""
            ],
            "application/vnd.google.colaboratory.intrinsic+json": {
              "type": "string"
            }
          },
          "metadata": {},
          "execution_count": 54
        }
      ]
    },
    {
      "cell_type": "code",
      "source": [
        "print(conversation.memory.buffer)"
      ],
      "metadata": {
        "colab": {
          "base_uri": "https://localhost:8080/"
        },
        "id": "fBWP1wf2bDiO",
        "outputId": "a3a7f572-1d1e-44a5-dae4-b9a1d66d036c"
      },
      "execution_count": 55,
      "outputs": [
        {
          "output_type": "stream",
          "name": "stdout",
          "text": [
            "Human: I stay in uttar Pradesh, India\n",
            "AI: That's wonderful, Al Riyan! Uttar Pradesh is a fascinating state with a rich history and culture.  I understand it's one of the most populous states in India, and it's known for its significant contributions to Indian art, literature, and politics.  I've accessed information about its diverse geography, ranging from the fertile plains of the Ganges to the Himalayan foothills.  I also know it's home to many important historical sites, including the Taj Mahal in Agra, which is, of course, one of the Seven Wonders of the World.  Are there any specific aspects of Uttar Pradesh that you'd like to discuss? Perhaps you'd like to tell me about your experiences living there, or maybe you have questions about a particular city, region, or historical event related to the state. I'm ready to delve deeper into any topic you find interesting.\n",
            "\n"
          ]
        }
      ]
    },
    {
      "cell_type": "code",
      "source": [
        "conversation.predict(input=\"What is my name?\")"
      ],
      "metadata": {
        "colab": {
          "base_uri": "https://localhost:8080/",
          "height": 298
        },
        "id": "RcMxFxDLbKF3",
        "outputId": "33137405-d0da-409f-8f2d-7147a8c1e573"
      },
      "execution_count": 56,
      "outputs": [
        {
          "output_type": "stream",
          "name": "stdout",
          "text": [
            "\n",
            "\n",
            "\u001b[1m> Entering new ConversationChain chain...\u001b[0m\n",
            "Prompt after formatting:\n",
            "\u001b[32;1m\u001b[1;3mThe following is a friendly conversation between a human and an AI. The AI is talkative and provides lots of specific details from its context. If the AI does not know the answer to a question, it truthfully says it does not know.\n",
            "\n",
            "Current conversation:\n",
            "Human: I stay in uttar Pradesh, India\n",
            "AI: That's wonderful, Al Riyan! Uttar Pradesh is a fascinating state with a rich history and culture.  I understand it's one of the most populous states in India, and it's known for its significant contributions to Indian art, literature, and politics.  I've accessed information about its diverse geography, ranging from the fertile plains of the Ganges to the Himalayan foothills.  I also know it's home to many important historical sites, including the Taj Mahal in Agra, which is, of course, one of the Seven Wonders of the World.  Are there any specific aspects of Uttar Pradesh that you'd like to discuss? Perhaps you'd like to tell me about your experiences living there, or maybe you have questions about a particular city, region, or historical event related to the state. I'm ready to delve deeper into any topic you find interesting.\n",
            "\n",
            "Human: What is my name?\n",
            "AI:\u001b[0m\n",
            "\n",
            "\u001b[1m> Finished chain.\u001b[0m\n"
          ]
        },
        {
          "output_type": "execute_result",
          "data": {
            "text/plain": [
              "\"I do not know your name.  You told me you live in Uttar Pradesh, but you haven't told me your name.\\n\""
            ],
            "application/vnd.google.colaboratory.intrinsic+json": {
              "type": "string"
            }
          },
          "metadata": {},
          "execution_count": 56
        }
      ]
    },
    {
      "cell_type": "code",
      "source": [],
      "metadata": {
        "id": "eQ_yqA2rbP7J"
      },
      "execution_count": null,
      "outputs": []
    }
  ]
}